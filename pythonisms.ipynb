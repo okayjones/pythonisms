{
 "metadata": {
  "language_info": {
   "codemirror_mode": {
    "name": "ipython",
    "version": 3
   },
   "file_extension": ".py",
   "mimetype": "text/x-python",
   "name": "python",
   "nbconvert_exporter": "python",
   "pygments_lexer": "ipython3",
   "version": "3.8.5"
  },
  "orig_nbformat": 2,
  "kernelspec": {
   "name": "pythonjvsc74a57bd04b0f610476f4ebdd6eda7d9c39479020c6e872e13e231804ab1a2a3c551dd178",
   "display_name": "Python 3.8.5  ('.venv': poetry)"
  },
  "metadata": {
   "interpreter": {
    "hash": "4b0f610476f4ebdd6eda7d9c39479020c6e872e13e231804ab1a2a3c551dd178"
   }
  }
 },
 "nbformat": 4,
 "nbformat_minor": 2,
 "cells": [
  {
   "source": [
    "### Iterator & Generator Examples"
   ],
   "cell_type": "markdown",
   "metadata": {}
  },
  {
   "cell_type": "code",
   "execution_count": 3,
   "metadata": {
    "tags": []
   },
   "outputs": [],
   "source": [
    "from hashtable import Hashtable\n",
    "\n",
    "class Hashtable(Hashtable):\n",
    "    \n",
    "    def __iter__(self):\n",
    "\n",
    "        def generator():\n",
    "            for bucket in self._buckets:\n",
    "                yield bucket\n",
    "        return generator()"
   ]
  },
  {
   "cell_type": "code",
   "execution_count": 4,
   "metadata": {},
   "outputs": [
    {
     "output_type": "stream",
     "name": "stdout",
     "text": [
      "Success!\nSuccess!\n"
     ]
    }
   ],
   "source": [
    "def test_ht_listcomp():\n",
    "    ht = Hashtable()\n",
    "    ht.add('evil', 1)\n",
    "    ht.add('vile', 2)\n",
    "    ht.add('test', 3)\n",
    "\n",
    "    actual = [item.display() for item in ht if item.display() != []]\n",
    "    expected = [[('test', 3)], [('evil', 1), ('vile', 2)]]\n",
    "    assert actual == expected\n",
    "    print('Success!')\n",
    "\n",
    "def test_ht_loop():\n",
    "    ht = Hashtable()\n",
    "    ht.add('evil', 1)\n",
    "    ht.add('vile', 2)\n",
    "    ht.add('test', 3)\n",
    "\n",
    "    actual = []\n",
    "    expected = [[('test', 3)], [('evil', 1), ('vile', 2)]]\n",
    "\n",
    "    for item in ht:\n",
    "        if item.display() != []:\n",
    "            actual.append(item.display())\n",
    "\n",
    "    assert actual == expected\n",
    "    print('Success!')\n",
    "\n",
    "test_ht_listcomp()\n",
    "test_ht_loop()"
   ]
  },
  {
   "source": [
    "### Decorators"
   ],
   "cell_type": "markdown",
   "metadata": {}
  },
  {
   "cell_type": "code",
   "execution_count": 5,
   "metadata": {},
   "outputs": [],
   "source": [
    "# placeholder\n",
    "# entry / exit time of function logged\n",
    "# add countdown delay"
   ]
  },
  {
   "cell_type": "code",
   "execution_count": 6,
   "metadata": {},
   "outputs": [],
   "source": [
    "# tests"
   ]
  },
  {
   "source": [
    "### Dunder methods\n"
   ],
   "cell_type": "markdown",
   "metadata": {}
  },
  {
   "cell_type": "code",
   "execution_count": 7,
   "metadata": {},
   "outputs": [],
   "source": [
    "#  equal\n",
    "# truthy/falsey"
   ]
  },
  {
   "cell_type": "code",
   "execution_count": 8,
   "metadata": {},
   "outputs": [
    {
     "output_type": "error",
     "ename": "NameError",
     "evalue": "name 'tests' is not defined",
     "traceback": [
      "\u001b[0;31m---------------------------------------------------------------------------\u001b[0m",
      "\u001b[0;31mNameError\u001b[0m                                 Traceback (most recent call last)",
      "\u001b[0;32m<ipython-input-8-64853233b4bd>\u001b[0m in \u001b[0;36m<module>\u001b[0;34m\u001b[0m\n\u001b[0;32m----> 1\u001b[0;31m \u001b[0mtests\u001b[0m\u001b[0;34m\u001b[0m\u001b[0;34m\u001b[0m\u001b[0m\n\u001b[0m",
      "\u001b[0;31mNameError\u001b[0m: name 'tests' is not defined"
     ]
    }
   ],
   "source": [
    "# tests"
   ]
  }
 ]
}
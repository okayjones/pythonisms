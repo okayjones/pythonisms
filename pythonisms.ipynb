{
 "metadata": {
  "language_info": {
   "codemirror_mode": {
    "name": "ipython",
    "version": 3
   },
   "file_extension": ".py",
   "mimetype": "text/x-python",
   "name": "python",
   "nbconvert_exporter": "python",
   "pygments_lexer": "ipython3",
   "version": "3.8.5"
  },
  "orig_nbformat": 2,
  "kernelspec": {
   "name": "pythonjvsc74a57bd04b0f610476f4ebdd6eda7d9c39479020c6e872e13e231804ab1a2a3c551dd178",
   "display_name": "Python 3.8.5  ('.venv': poetry)"
  },
  "metadata": {
   "interpreter": {
    "hash": "4b0f610476f4ebdd6eda7d9c39479020c6e872e13e231804ab1a2a3c551dd178"
   }
  }
 },
 "nbformat": 4,
 "nbformat_minor": 2,
 "cells": [
  {
   "source": [
    "### Iterator & Generator Examples"
   ],
   "cell_type": "markdown",
   "metadata": {}
  },
  {
   "cell_type": "code",
   "execution_count": 23,
   "metadata": {
    "tags": []
   },
   "outputs": [],
   "source": [
    "from hashtable import Hashtable\n",
    "\n",
    "class Hashtable(Hashtable):\n",
    "    \n",
    "    def __iter__(self):\n",
    "\n",
    "        def generator():\n",
    "            for bucket in self._buckets:\n",
    "                yield bucket.display()\n",
    "        return generator()"
   ]
  },
  {
   "cell_type": "code",
   "execution_count": 24,
   "metadata": {},
   "outputs": [
    {
     "output_type": "stream",
     "name": "stdout",
     "text": [
      "Success!\nSuccess!\n"
     ]
    }
   ],
   "source": [
    "def test_ht_listcomp():\n",
    "    ht = Hashtable()\n",
    "    ht.add('evil', 1)\n",
    "    ht.add('vile', 2)\n",
    "    ht.add('test', 3)\n",
    "\n",
    "    actual = [item for item in ht if item]\n",
    "    expected = [[('test', 3)], [('evil', 1), ('vile', 2)]]\n",
    "    assert actual == expected\n",
    "    print('Success!')\n",
    "\n",
    "def test_ht_loop():\n",
    "    ht = Hashtable()\n",
    "    ht.add('evil', 1)\n",
    "    ht.add('vile', 2)\n",
    "    ht.add('test', 3)\n",
    "\n",
    "    actual = []\n",
    "    expected = [[('test', 3)], [('evil', 1), ('vile', 2)]]\n",
    "\n",
    "    for item in ht:\n",
    "        if item != []:\n",
    "            actual.append(item)\n",
    "\n",
    "    assert actual == expected\n",
    "    print('Success!')\n",
    "\n",
    "test_ht_listcomp()\n",
    "test_ht_loop()"
   ]
  },
  {
   "source": [
    "### Decorators"
   ],
   "cell_type": "markdown",
   "metadata": {}
  },
  {
   "cell_type": "code",
   "execution_count": 25,
   "metadata": {},
   "outputs": [],
   "source": [
    "from functools import wraps\n",
    "\n",
    "def double(func):\n",
    "    @wraps(func)\n",
    "    def wrapper(*args, **kwargs):\n",
    "        return func(*args, **kwargs) * 2\n",
    "    \n",
    "    return wrapper\n",
    "\n",
    "\n",
    "def hi(func):\n",
    "    @wraps(func)\n",
    "    def wrapper(*args, **kwargs):\n",
    "        name = func(*args, **kwargs)\n",
    "        return f'Hi {name}'\n",
    "    \n",
    "    return wrapper\n",
    "\n"
   ]
  },
  {
   "cell_type": "code",
   "execution_count": 26,
   "metadata": {},
   "outputs": [
    {
     "output_type": "stream",
     "name": "stdout",
     "text": [
      "Success!\nSuccess!\n"
     ]
    }
   ],
   "source": [
    "def test_record_time_deco():\n",
    "    \n",
    "    @double\n",
    "    def number(num):\n",
    "        return num    \n",
    "    \n",
    "    doubled = number(5)\n",
    "    assert doubled == 10\n",
    "    print('Success!')\n",
    "\n",
    "def test_hi_deco():\n",
    "\n",
    "    @hi\n",
    "    def name(string):\n",
    "        return string\n",
    "\n",
    "    new_string = name('roger')\n",
    "    assert new_string == 'Hi roger'\n",
    "    print('Success!')\n",
    "\n",
    "test_record_time_deco()\n",
    "test_hi_deco()"
   ]
  },
  {
   "source": [
    "### Dunder methods\n"
   ],
   "cell_type": "markdown",
   "metadata": {}
  },
  {
   "cell_type": "code",
   "execution_count": 27,
   "metadata": {},
   "outputs": [],
   "source": [
    "class Hashtable(Hashtable):\n",
    "    \n",
    "    def __eq__(self, other):\n",
    "        return list(self) == list(other)\n",
    "    \n",
    "    def __bool__(self):\n",
    "        return [item for item in list(self) if item != []] != []"
   ]
  },
  {
   "cell_type": "code",
   "execution_count": 28,
   "metadata": {
    "tags": []
   },
   "outputs": [
    {
     "output_type": "stream",
     "name": "stdout",
     "text": [
      "Success!\nSuccess!\n"
     ]
    }
   ],
   "source": [
    "def test_ht_eq():\n",
    "    ht1 = Hashtable()\n",
    "    ht1.add('evil', 1)\n",
    "    ht1.add('vile', 2)\n",
    "    ht1.add('test', 3)\n",
    "    ht2 = Hashtable()\n",
    "    ht2.add('evil', 1)\n",
    "    ht2.add('vile', 2)\n",
    "    ht2.add('test', 3)\n",
    "\n",
    "    assert ht1 == ht2\n",
    "\n",
    "    ht2.add('testtwo', 4)\n",
    "\n",
    "    assert ht1 != ht2\n",
    "\n",
    "    print('Success!')\n",
    "\n",
    "def test_ht_bool():\n",
    "    ht1 = Hashtable()\n",
    "    assert not ht1\n",
    "    ht1.add('one', 1)\n",
    "    assert ht1\n",
    "    print('Success!')\n",
    "\n",
    "test_ht_eq()\n",
    "test_ht_bool()"
   ]
  },
  {
   "cell_type": "code",
   "execution_count": null,
   "metadata": {},
   "outputs": [],
   "source": []
  }
 ]
}
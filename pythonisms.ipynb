{
 "metadata": {
  "language_info": {
   "codemirror_mode": {
    "name": "ipython",
    "version": 3
   },
   "file_extension": ".py",
   "mimetype": "text/x-python",
   "name": "python",
   "nbconvert_exporter": "python",
   "pygments_lexer": "ipython3",
   "version": "3.8.5"
  },
  "orig_nbformat": 2,
  "kernelspec": {
   "name": "pythonjvsc74a57bd04b0f610476f4ebdd6eda7d9c39479020c6e872e13e231804ab1a2a3c551dd178",
   "display_name": "Python 3.8.5  ('.venv': poetry)"
  },
  "metadata": {
   "interpreter": {
    "hash": "4b0f610476f4ebdd6eda7d9c39479020c6e872e13e231804ab1a2a3c551dd178"
   }
  }
 },
 "nbformat": 4,
 "nbformat_minor": 2,
 "cells": [
  {
   "cell_type": "code",
   "execution_count": null,
   "metadata": {},
   "outputs": [],
   "source": []
  }
 ]
}